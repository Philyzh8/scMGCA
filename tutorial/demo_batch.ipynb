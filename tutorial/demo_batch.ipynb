{
 "cells": [
  {
   "cell_type": "markdown",
   "metadata": {},
   "source": [
    "# Batch effect correction\n",
    "In this tutorial, we will perform the entire `scMGCA` batch effect correction using the human pancreatic dataset (can be downloaded <a href=\"https://github.com/Philyzh8/scMGCA/tree/master/dataset/pancreas\">here</a>)."
   ]
  },
  {
   "cell_type": "markdown",
   "metadata": {},
   "source": [
    "## Import python package"
   ]
  },
  {
   "cell_type": "code",
   "execution_count": null,
   "metadata": {},
   "outputs": [],
   "source": [
    "import os\n",
    "import argparse\n",
    "import pandas as pd\n",
    "import tensorflow as tf\n",
    "from spektral.layers import GraphConv\n",
    "from sklearn import metrics\n",
    "from numpy.random import seed\n",
    "seed(1)\n",
    "tf.random.set_seed(1)\n",
    "# Remove warnings\n",
    "import warnings\n",
    "warnings.simplefilter(action='ignore', category=FutureWarning)\n",
    "tf.compat.v1.logging.set_verbosity(tf.compat.v1.logging.ERROR)\n",
    "# scMGCA module\n",
    "from scMGCA.preprocess import *\n",
    "from scMGCA.utils import *\n",
    "from scMGCA.scmgca import SCMGCA, SCMGCAL\n",
    "from scMGCA.losses import *\n",
    "from scMGCA.graph_function import *"
   ]
  },
  {
   "cell_type": "markdown",
   "metadata": {},
   "source": [
    "## Parameter settings"
   ]
  },
  {
   "cell_type": "code",
   "execution_count": 2,
   "metadata": {},
   "outputs": [],
   "source": [
    "parser = argparse.ArgumentParser(description=\"train\", formatter_class=argparse.ArgumentDefaultsHelpFormatter)\n",
    "parser.add_argument(\"--dataname\", default = \"pancreas\", type = str)\n",
    "parser.add_argument(\"--highly_genes\", default = 2000, type=int)\n",
    "parser.add_argument(\"--pretrain_epochs\", default = 1000, type=int)\n",
    "parser.add_argument(\"--maxiter\", default = 300, type=int)\n",
    "args = parser.parse_args(args=['--dataname', 'pancreas', '--highly_genes', '2000', '--pretrain_epochs', '1000', '--maxiter', '300'])"
   ]
  },
  {
   "cell_type": "markdown",
   "metadata": {},
   "source": [
    "## Read data"
   ]
  },
  {
   "cell_type": "code",
   "execution_count": 3,
   "metadata": {},
   "outputs": [
    {
     "name": "stdout",
     "output_type": "stream",
     "text": [
      "View of AnnData object with n_obs × n_vars = 6321 × 21215\n",
      "    obs: 'celltype', 'tech', 'n_genes', 'percent_mito', 'n_counts'\n",
      "    var: 'genename', 'n_cells'\n",
      "Cell number: 6321\n",
      "Gene number 21215\n",
      "Cluster number: 13\n"
     ]
    }
   ],
   "source": [
    "adata = read_pancreas(\"./dataset/pancreas\", cache=True)\n",
    "y = np.array(adata.obs['celltype'].values, dtype=str)\n",
    "cluster_number = len(np.unique(y))\n",
    "print(\"Cell number:\", adata.X.shape[0])\n",
    "print(\"Gene number\",adata.X.shape[1])   \n",
    "print(\"Cluster number:\", cluster_number)"
   ]
  },
  {
   "cell_type": "markdown",
   "metadata": {},
   "source": [
    "## Data preprocessing"
   ]
  },
  {
   "cell_type": "code",
   "execution_count": null,
   "metadata": {},
   "outputs": [],
   "source": [
    "count = normalize_batch(adata, batch_key = 'tech', n_high_var = args.highly_genes)  "
   ]
  },
  {
   "cell_type": "markdown",
   "metadata": {},
   "source": [
    "## Construct cell graph"
   ]
  },
  {
   "cell_type": "code",
   "execution_count": null,
   "metadata": {},
   "outputs": [],
   "source": [
    "adj = get_adj(count)\n",
    "adj_n = GraphConv.preprocess(adj)"
   ]
  },
  {
   "cell_type": "markdown",
   "metadata": {},
   "source": [
    "## Pre-training"
   ]
  },
  {
   "cell_type": "code",
   "execution_count": 6,
   "metadata": {},
   "outputs": [
    
    {
     "name": "stdout",
     "output_type": "stream",
     "text": [
      "Epoch 10  Mult_loss: -0.059194803   A_rec_loss: 0.0053158654\n",
      "Epoch 20  Mult_loss: -0.66634506   A_rec_loss: 0.006172923\n",
      "Epoch 30  Mult_loss: -1.9341395   A_rec_loss: 0.006377106\n",
      "Epoch 40  Mult_loss: -2.288747   A_rec_loss: 0.006401022\n",
      "Epoch 50  Mult_loss: -2.546524   A_rec_loss: 0.0065452913\n",
      "Epoch 60  Mult_loss: -2.700222   A_rec_loss: 0.0064924597\n",
      "Epoch 70  Mult_loss: -2.791896   A_rec_loss: 0.0065031154\n",
      "Epoch 80  Mult_loss: -2.8518136   A_rec_loss: 0.0064262873\n",
      "Epoch 90  Mult_loss: -2.892231   A_rec_loss: 0.0063656326\n",
      "Epoch 100  Mult_loss: -2.9193466   A_rec_loss: 0.0063509066\n",
      "Epoch 110  Mult_loss: -2.9448931   A_rec_loss: 0.0063002585\n",
      "Epoch 120  Mult_loss: -2.9716494   A_rec_loss: 0.006254684\n",
      "Epoch 130  Mult_loss: -2.9934814   A_rec_loss: 0.0062246686\n",
      "Epoch 140  Mult_loss: -3.0111663   A_rec_loss: 0.006201898\n",
      "Epoch 150  Mult_loss: -3.0263383   A_rec_loss: 0.0061896513\n",
      "Epoch 160  Mult_loss: -3.0405831   A_rec_loss: 0.006165742\n",
      "Epoch 170  Mult_loss: -3.0542946   A_rec_loss: 0.0061707506\n",
      "Epoch 180  Mult_loss: -3.0662386   A_rec_loss: 0.006153632\n",
      "Epoch 190  Mult_loss: -3.0772073   A_rec_loss: 0.006150261\n",
      "Epoch 200  Mult_loss: -3.0870106   A_rec_loss: 0.006134773\n",
      "Epoch 210  Mult_loss: -3.0953546   A_rec_loss: 0.006081799\n",
      "Epoch 220  Mult_loss: -3.1033964   A_rec_loss: 0.0060130134\n",
      "Epoch 230  Mult_loss: -3.1114986   A_rec_loss: 0.005997252\n",
      "Epoch 240  Mult_loss: -3.118911   A_rec_loss: 0.00599072\n",
      "Epoch 250  Mult_loss: -3.1257572   A_rec_loss: 0.005963984\n",
      "Epoch 260  Mult_loss: -3.1325753   A_rec_loss: 0.0059439996\n",
      "Epoch 270  Mult_loss: -3.1398435   A_rec_loss: 0.005937659\n",
      "Epoch 280  Mult_loss: -3.1463342   A_rec_loss: 0.00591989\n",
      "Epoch 290  Mult_loss: -3.152491   A_rec_loss: 0.005837216\n",
      "Epoch 300  Mult_loss: -3.158569   A_rec_loss: 0.0058250697\n",
      "Epoch 310  Mult_loss: -3.1642697   A_rec_loss: 0.005808481\n",
      "Epoch 320  Mult_loss: -3.1701806   A_rec_loss: 0.0057931147\n",
      "Epoch 330  Mult_loss: -3.1754131   A_rec_loss: 0.00576878\n",
      "Epoch 340  Mult_loss: -3.1806347   A_rec_loss: 0.005565342\n",
      "Epoch 350  Mult_loss: -3.1855814   A_rec_loss: 0.005481218\n",
      "Epoch 360  Mult_loss: -3.190371   A_rec_loss: 0.0051735467\n",
      "Epoch 370  Mult_loss: -3.1950445   A_rec_loss: 0.0051555345\n",
      "Epoch 380  Mult_loss: -3.1997495   A_rec_loss: 0.005151915\n",
      "Epoch 390  Mult_loss: -3.2046442   A_rec_loss: 0.0051507237\n",
      "Epoch 400  Mult_loss: -3.2092505   A_rec_loss: 0.005150949\n",
      "Epoch 410  Mult_loss: -3.2137473   A_rec_loss: 0.005151607\n",
      "Epoch 420  Mult_loss: -3.2178864   A_rec_loss: 0.00515072\n",
      "Epoch 430  Mult_loss: -3.2225578   A_rec_loss: 0.0051500876\n",
      "Epoch 440  Mult_loss: -3.2269287   A_rec_loss: 0.005149424\n",
      "Epoch 450  Mult_loss: -3.2312632   A_rec_loss: 0.0051489607\n",
      "Epoch 460  Mult_loss: -3.235564   A_rec_loss: 0.0051476727\n",
      "Epoch 470  Mult_loss: -3.2398107   A_rec_loss: 0.0051474194\n",
      "Epoch 480  Mult_loss: -3.2437732   A_rec_loss: 0.0051476373\n",
      "Epoch 490  Mult_loss: -3.2478552   A_rec_loss: 0.0051480974\n",
      "Epoch 500  Mult_loss: -3.251769   A_rec_loss: 0.005148007\n",
      "Epoch 510  Mult_loss: -3.255792   A_rec_loss: 0.0051479978\n",
      "Epoch 520  Mult_loss: -3.2598116   A_rec_loss: 0.0051472397\n",
      "Epoch 530  Mult_loss: -3.2635283   A_rec_loss: 0.005146652\n",
      "Epoch 540  Mult_loss: -3.2669199   A_rec_loss: 0.0051458995\n",
      "Epoch 550  Mult_loss: -3.270878   A_rec_loss: 0.0051456634\n",
      "Epoch 560  Mult_loss: -3.2746227   A_rec_loss: 0.0051458227\n",
      "Epoch 570  Mult_loss: -3.2782671   A_rec_loss: 0.0051459065\n",
      "Epoch 580  Mult_loss: -3.2818136   A_rec_loss: 0.005145484\n",
      "Epoch 590  Mult_loss: -3.28555   A_rec_loss: 0.005144914\n",
      "Epoch 600  Mult_loss: -3.2885036   A_rec_loss: 0.0051446916\n",
      "Epoch 610  Mult_loss: -3.2924576   A_rec_loss: 0.0051438413\n",
      "Epoch 620  Mult_loss: -3.295907   A_rec_loss: 0.005143527\n",
      "Epoch 630  Mult_loss: -3.2992406   A_rec_loss: 0.0051429207\n",
      "Epoch 640  Mult_loss: -3.302446   A_rec_loss: 0.005142246\n",
      "Epoch 650  Mult_loss: -3.3055067   A_rec_loss: 0.005142332\n",
      "Epoch 660  Mult_loss: -3.3087628   A_rec_loss: 0.0051420718\n",
      "Epoch 670  Mult_loss: -3.311433   A_rec_loss: 0.0051420107\n",
      "Epoch 680  Mult_loss: -3.314956   A_rec_loss: 0.0051421053\n",
      "Epoch 690  Mult_loss: -3.3182578   A_rec_loss: 0.0051418245\n",
      "Epoch 700  Mult_loss: -3.3213396   A_rec_loss: 0.005141516\n",
      "Epoch 710  Mult_loss: -3.3242962   A_rec_loss: 0.005140983\n",
      "Epoch 720  Mult_loss: -3.3273194   A_rec_loss: 0.005141026\n",
      "Epoch 730  Mult_loss: -3.3301048   A_rec_loss: 0.0051409174\n",
      "Epoch 740  Mult_loss: -3.3326557   A_rec_loss: 0.0051406906\n",
      "Epoch 750  Mult_loss: -3.3361335   A_rec_loss: 0.005140675\n",
      "Epoch 760  Mult_loss: -3.338966   A_rec_loss: 0.0051405923\n",
      "Epoch 770  Mult_loss: -3.3418193   A_rec_loss: 0.0051407525\n",
      "Epoch 780  Mult_loss: -3.344362   A_rec_loss: 0.0051406072\n",
      "Epoch 790  Mult_loss: -3.3467796   A_rec_loss: 0.005140876\n",
      "Epoch 800  Mult_loss: -3.3495004   A_rec_loss: 0.0051406664\n",
      "Epoch 810  Mult_loss: -3.3525014   A_rec_loss: 0.005140737\n",
      "Epoch 820  Mult_loss: -3.3551466   A_rec_loss: 0.0051406887\n",
      "Epoch 830  Mult_loss: -3.3573813   A_rec_loss: 0.0051408214\n",
      "Epoch 840  Mult_loss: -3.3600476   A_rec_loss: 0.005140329\n",
      "Epoch 850  Mult_loss: -3.3626335   A_rec_loss: 0.0051404415\n",
      "Epoch 860  Mult_loss: -3.3650181   A_rec_loss: 0.0051408336\n",
      "Epoch 870  Mult_loss: -3.3672698   A_rec_loss: 0.0051404797\n",
      "Epoch 880  Mult_loss: -3.3699057   A_rec_loss: 0.0051402603\n",
      "Epoch 890  Mult_loss: -3.372177   A_rec_loss: 0.005139938\n",
      "Epoch 900  Mult_loss: -3.3749325   A_rec_loss: 0.005140022\n",
      "Epoch 910  Mult_loss: -3.3773117   A_rec_loss: 0.0051398594\n",
      "Epoch 920  Mult_loss: -3.3798208   A_rec_loss: 0.005139873\n",
      "Epoch 930  Mult_loss: -3.381991   A_rec_loss: 0.0051398645\n",
      "Epoch 940  Mult_loss: -3.3843167   A_rec_loss: 0.0051398505\n",
      "Epoch 950  Mult_loss: -3.386691   A_rec_loss: 0.0051396694\n",
      "Epoch 960  Mult_loss: -3.3889923   A_rec_loss: 0.0051393467\n",
      "Epoch 970  Mult_loss: -3.3911557   A_rec_loss: 0.005139724\n",
      "Epoch 980  Mult_loss: -3.3933055   A_rec_loss: 0.0051395264\n",
      "Epoch 990  Mult_loss: -3.3958635   A_rec_loss: 0.005139315\n",
      "Epoch 1000  Mult_loss: -3.3980877   A_rec_loss: 0.0051390654\n",
      "Pre_train Finish!\n"
     ]
    }
   ],
   "source": [
    "model = SCMGCA(count, adj=adj, adj_n=adj_n, latent_dim=20, dec_dim=[128])\n",
    "model.pre_train(epochs=args.pretrain_epochs, W_a=0.6, lr=5e-4)\n",
    "latent_pre = model.embedding(count, adj_n)"
   ]
  },
  {
   "cell_type": "markdown",
   "metadata": {},
   "source": [
    "## Training"
   ]
  },
  {
   "cell_type": "code",
   "execution_count": 7,
   "metadata": {},
   "outputs": [
    {
     "name": "stdout",
     "output_type": "stream",
     "text": [
      "Epoch 0  Mult_loss:  -3.3983047  A_rec_loss:  0.005139091  cluster_loss:  0.30853766\n",
      "Epoch 10  Mult_loss:  -3.362367  A_rec_loss:  0.0051314016  cluster_loss:  0.28393573\n",
      "Epoch 20  Mult_loss:  -3.348073  A_rec_loss:  0.0051306216  cluster_loss:  0.25683475\n",
      "Epoch 30  Mult_loss:  -3.3281515  A_rec_loss:  0.0051304093  cluster_loss:  0.22971925\n",
      "Epoch 40  Mult_loss:  -3.3103964  A_rec_loss:  0.0051305164  cluster_loss:  0.20474808\n",
      "Epoch 50  Mult_loss:  -3.296382  A_rec_loss:  0.005130498  cluster_loss:  0.1829993\n",
      "Epoch 60  Mult_loss:  -3.2862275  A_rec_loss:  0.005130288  cluster_loss:  0.16495347\n",
      "Epoch 70  Mult_loss:  -3.2788794  A_rec_loss:  0.0051310314  cluster_loss:  0.15019557\n",
      "Epoch 80  Mult_loss:  -3.2730694  A_rec_loss:  0.005130525  cluster_loss:  0.13781421\n",
      "Epoch 90  Mult_loss:  -3.2685206  A_rec_loss:  0.0051300665  cluster_loss:  0.12742159\n",
      "Epoch 100  Mult_loss:  -3.265227  A_rec_loss:  0.0051300274  cluster_loss:  0.11865937\n",
      "Epoch 110  Mult_loss:  -3.2629097  A_rec_loss:  0.0051298887  cluster_loss:  0.11120756\n",
      "Epoch 120  Mult_loss:  -3.261272  A_rec_loss:  0.0051297997  cluster_loss:  0.10476732\n",
      "Epoch 130  Mult_loss:  -3.2601962  A_rec_loss:  0.0051296907  cluster_loss:  0.09920892\n",
      "Epoch 140  Mult_loss:  -3.2598557  A_rec_loss:  0.005129688  cluster_loss:  0.09444529\n",
      "Epoch 150  Mult_loss:  -3.2600608  A_rec_loss:  0.0051293997  cluster_loss:  0.09030968\n",
      "Epoch 160  Mult_loss:  -3.260805  A_rec_loss:  0.0051291618  cluster_loss:  0.0867729\n",
      "Epoch 170  Mult_loss:  -3.2619116  A_rec_loss:  0.005128931  cluster_loss:  0.08369919\n",
      "Epoch 180  Mult_loss:  -3.2633054  A_rec_loss:  0.005129064  cluster_loss:  0.08103527\n",
      "Epoch 190  Mult_loss:  -3.2647755  A_rec_loss:  0.0051292754  cluster_loss:  0.07862441\n",
      "Epoch 200  Mult_loss:  -3.2666044  A_rec_loss:  0.005129061  cluster_loss:  0.07656175\n",
      "Epoch 210  Mult_loss:  -3.268401  A_rec_loss:  0.005129202  cluster_loss:  0.074641034\n",
      "Epoch 220  Mult_loss:  -3.270292  A_rec_loss:  0.0051290244  cluster_loss:  0.07298881\n",
      "Epoch 230  Mult_loss:  -3.2722273  A_rec_loss:  0.005129039  cluster_loss:  0.071541555\n",
      "Epoch 240  Mult_loss:  -3.2741067  A_rec_loss:  0.0051292307  cluster_loss:  0.07013498\n",
      "Epoch 250  Mult_loss:  -3.2762597  A_rec_loss:  0.005129161  cluster_loss:  0.06894185\n",
      "Epoch 260  Mult_loss:  -3.2781835  A_rec_loss:  0.0051291976  cluster_loss:  0.06775308\n",
      "Epoch 270  Mult_loss:  -3.2803879  A_rec_loss:  0.005129171  cluster_loss:  0.066780426\n",
      "Epoch 280  Mult_loss:  -3.2824473  A_rec_loss:  0.0051291594  cluster_loss:  0.065972\n",
      "Epoch 290  Mult_loss:  -3.284503  A_rec_loss:  0.005131225  cluster_loss:  0.06507743\n"
     ]
    }
   ],
   "source": [
    "adata_latent = sc.AnnData(latent_pre)\n",
    "sc.pp.neighbors(adata_latent, n_neighbors = 15, use_rep=\"X\")\n",
    "resolution = find_resolution(adata_latent, 8, 0)\n",
    "adata_latent = sc.tl.leiden(adata_latent, resolution = resolution, random_state = 0, copy = True)\n",
    "Y_pred_init = np.asarray(adata_latent.obs['leiden'], dtype=int)\n",
    "features = pd.DataFrame(adata_latent.X, index = np.arange(0, adata_latent.shape[0]))\n",
    "Group = pd.Series(Y_pred_init, index = np.arange(0, adata_latent.shape[0]), name=\"Group\")\n",
    "Mergefeature = pd.concat([features, Group],axis=1)\n",
    "centers = np.asarray(Mergefeature.groupby(\"Group\").mean())\n",
    "Cluster_predicted=model.train(epochs=args.maxiter, W_a=0.6, centers=centers)"
   ]
  },
  {
   "cell_type": "markdown",
   "metadata": {},
   "source": [
    "## Evaluation"
   ]
  },
  {
   "cell_type": "code",
   "execution_count": 8,
   "metadata": {},
   "outputs": [
    {
     "name": "stdout",
     "output_type": "stream",
     "text": [
      "NMI= 0.9275, ARI= 0.9585\n"
     ]
    }
   ],
   "source": [
    "y = list(map(str, y))\n",
    "Cluster_predicted.y_pred = np.array(Cluster_predicted.y_pred)\n",
    "nmi = metrics.normalized_mutual_info_score(y, Cluster_predicted.y_pred)\n",
    "ari = metrics.adjusted_rand_score(y, Cluster_predicted.y_pred)\n",
    "print('NMI= %.4f, ARI= %.4f' % (nmi, ari))"
   ]
  },
  {
   "cell_type": "markdown",
   "metadata": {},
   "source": [
    "## Visualization"
   ]
  },
  {
   "cell_type": "code",
   "execution_count": 12,
   "metadata": {},
   "outputs": [
    {
     "data": {
      "image/png": "[encoded data removed]",
      "text/plain": [
       "<Figure size 432x288 with 1 Axes>"
      ]
     },
     "metadata": {},
     "output_type": "display_data"
    }
   ],
   "source": [
    "import matplotlib.pyplot as plt\n",
    "import umap\n",
    "latent = Cluster_predicted.latent\n",
    "reducer = umap.UMAP(n_neighbors=20,metric='cosine',min_dist=0.01,random_state=42)\n",
    "embedding = reducer.fit_transform(latent)\n",
    "for i, x in enumerate(adata.obs['tech']):\n",
    "    if x == 'celseq':\n",
    "        s1 = plt.scatter(embedding[i][0], embedding[i][1], s=5, color='#019013')\n",
    "    elif x == 'celseq2':\n",
    "        s2 = plt.scatter(embedding[i][0], embedding[i][1], s=5, color='#FD8400')\n",
    "    elif x == 'fluidigmc1':\n",
    "        s3 = plt.scatter(embedding[i][0], embedding[i][1], s=5, color='#BD9001')\n",
    "    elif x == 'smartseq2':\n",
    "        s4 = plt.scatter(embedding[i][0], embedding[i][1], s=5, color='#00BAAC')\n",
    "\n",
    "plt.xticks([])\n",
    "plt.yticks([])\n",
    "plt.xlabel('UMAP1', fontsize=25)\n",
    "plt.ylabel('UAMP2', fontsize=25)\n",
    "\n",
    "ax = plt.gca()\n",
    "ax.spines['right'].set_color('black')\n",
    "ax.spines['top'].set_color('black')\n",
    "ax.spines['left'].set_color('black')\n",
    "ax.spines['bottom'].set_color('black')\n",
    "ax.spines['bottom'].set_linewidth(2)\n",
    "ax.spines['left'].set_linewidth(2)\n",
    "ax.spines['right'].set_linewidth(2)\n",
    "ax.spines['top'].set_linewidth(2)  \n",
    "plt.show()"
   ]
  }
 ],
 "metadata": {
  "kernelspec": {
   "display_name": "Python 3.7.0 ('tensorflow': conda)",
   "language": "python",
   "name": "python3"
  },
  "language_info": {
   "codemirror_mode": {
    "name": "ipython",
    "version": 3
   },
   "file_extension": ".py",
   "mimetype": "text/x-python",
   "name": "python",
   "nbconvert_exporter": "python",
   "pygments_lexer": "ipython3",
   "version": "3.7.0"
  },
  "orig_nbformat": 4,
  "vscode": {
   "interpreter": {
    "hash": "d4981b31b3740e087fbd6606ec2a9ef21ac0e21fb1222d6521f4ab85985e6372"
   }
  }
 },
 "nbformat": 4,
 "nbformat_minor": 2
}
